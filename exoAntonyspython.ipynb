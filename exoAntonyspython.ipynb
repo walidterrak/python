{
 "cells": [
  {
   "cell_type": "markdown",
   "metadata": {},
   "source": [
    "Écrivez un programme qui demande à l'utilisateur de saisir un nombre entier positif et affiche tous les nombres de 1 jusqu'à ce nombre (inclus).\n"
   ]
  },
  {
   "cell_type": "code",
   "execution_count": null,
   "metadata": {},
   "outputs": [],
   "source": [
    "# Demander à l'utilisateur de saisir un nombre entier positif\n",
    "nombre = int(input(\"nombre entier.\"))\n",
    "\n",
    "# Vérifier si le nombre est positif\n",
    "if nombre > 0:\n",
    "    # Boucle pour afficher tous les nombres de 1 à 'nombre'\n",
    "    for i in range(1, nombre + 1):\n",
    "        print(i)\n",
    "else:\n",
    "    print(\"nombre entier.\")"
   ]
  },
  {
   "cell_type": "markdown",
   "metadata": {},
   "source": [
    "Écrivez une fonction qui prend une liste de nombres en entrée et renvoie une nouvelle liste contenant uniquement les nombres positifs."
   ]
  },
  {
   "cell_type": "code",
   "execution_count": null,
   "metadata": {},
   "outputs": [],
   "source": [
    "def filtrer_nombres_positifs(liste):\n",
    "    # Utiliser une compréhension de liste pour filtrer les nombres positifs\n",
    "    return [nombre for nombre in liste if nombre > 0]\n",
    "\n",
    "# Exemple d'utilisation\n",
    "liste_nombres = [-5, 3, -1, 7, 0, -2, 9]\n",
    "nombres_positifs = filtrer_nombres_positifs(liste_nombres)\n",
    "print(nombres_positifs)\n"
   ]
  },
  {
   "cell_type": "markdown",
   "metadata": {},
   "source": [
    "Écrivez une fonction qui prend une liste de mots en entrée et renvoie une nouvelle liste contenant les mots dont la première lettre est une voyelle (a, e, i, o, u)."
   ]
  },
  {
   "cell_type": "code",
   "execution_count": null,
   "metadata": {},
   "outputs": [],
   "source": [
    "def filtres_mots_voyelles(liste):\n",
    "    voyelles = ['a','e','i','o', 'u']\n",
    "    return [mots for mots in liste if mots[0].lower() in voyelles]\n",
    "\n",
    "liste = [\"arbre\",\"voiture\",\"couscous\",\"oiseau\",\"univers\"]\n",
    "mots_voyelles = filtres_mots_voyelles(liste)\n",
    "print(mots_voyelles)  "
   ]
  },
  {
   "cell_type": "markdown",
   "metadata": {},
   "source": [
    "Écrivez un programme qui demande à l'utilisateur de saisir un mot et affiche si ce mot contient plus de 5 caractères.\n"
   ]
  },
  {
   "cell_type": "code",
   "execution_count": null,
   "metadata": {},
   "outputs": [],
   "source": [
    "mot = str(input(\"mots\"))\n",
    "if len(mot) > 5:\n",
    "    print(\"ok !\")\n",
    "else:\n",
    "    print(\"no !\")"
   ]
  },
  {
   "cell_type": "markdown",
   "metadata": {},
   "source": [
    "Écrivez un programme qui demande à l'utilisateur de saisir 5 nombres entiers, acquisition clavier, les stocke dans une liste, puis affiche la liste."
   ]
  },
  {
   "cell_type": "code",
   "execution_count": null,
   "metadata": {},
   "outputs": [],
   "source": [
    "nombres = [int(input(\"nombres_entiers : \")) for_in range(5)]\n",
    "\n",
    "print(\"les nombres sont :\", nombres)\n"
   ]
  }
 ],
 "metadata": {
  "kernelspec": {
   "display_name": "base",
   "language": "python",
   "name": "python3"
  },
  "language_info": {
   "codemirror_mode": {
    "name": "ipython",
    "version": 3
   },
   "file_extension": ".py",
   "mimetype": "text/x-python",
   "name": "python",
   "nbconvert_exporter": "python",
   "pygments_lexer": "ipython3",
   "version": "3.12.4"
  }
 },
 "nbformat": 4,
 "nbformat_minor": 2
}
